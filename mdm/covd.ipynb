{
 "cells": [
  {
   "cell_type": "code",
   "execution_count": null,
   "metadata": {},
   "outputs": [],
   "source": [
    "import torch.nn.functional as F \n",
    "import torchvision\n",
    "import torchvision.transforms as T\n",
    "import torchvision.transforms.functional as Tf\n",
    "\n",
    "import torch.nn as nn\n",
    "import torch\n",
    "\n",
    "class CovarianceDescriptor(nn.Module):\n",
    "\n",
    "    def __init__(self):\n",
    "        super().__init__()\n",
    "        self.sobel_x = torch.tensor([[1.0, 0.0, -1.0], [2.0, 0.0, -2.0], [1.0, 0.0, -1.0]])\n",
    "        self.laplacian_x = torch.tensor([[0.0, 1.0, 0.0], [1.0, -4.0, 1.0], [0.0, 1.0, 0.0]])\n",
    "        \n",
    "\n",
    "    def derivative_features(self, img):\n",
    "        if img.shape[1] == 3:\n",
    "            img = T.Grayscale()(img)\n",
    "        smoothed_img = Tf.gaussian_blur(img, kernel_size=(3, 3), sigma=(0.2, 0.2))\n",
    "        filters = torch.stack([self.sobel_x, self.sobel_x.T, self.laplacian_x, self.laplacian_x.T], axis=0).unsqueeze(1)\n",
    "        abs_derivatives = torch.abs(F.conv2d(smoothed_img, filters))\n",
    "        norm_derivatives = torch.sqrt(abs_derivatives[:,0, :, :]**2 + abs_derivatives[:, 1, : , :] **2).unsqueeze(1)\n",
    "        angle = torch.arctan2(abs_derivatives[:, 0, :, :], abs_derivatives[:, 1, :, :]).unsqueeze(1)\n",
    "        return  [abs_derivatives, norm_derivatives, angle]\n",
    "    \n",
    "    def other_features(self, img):\n",
    "        h = img.shape[-1]\n",
    "        grid_x, grid_y = torch.meshgrid(torch.arange(img.shape[-1]), torch.arange(img.shape[-1]))\n",
    "        broadcasted_grid_x = torch.broadcast_to(grid_x, (img.shape[0], 1, img.shape[-1], img.shape[-2])).float()/h\n",
    "        broadcasted_grid_y = torch.broadcast_to(grid_y, (img.shape[0], 1, img.shape[-1], img.shape[-2])).float()/h\n",
    "        print(\"grid\", broadcasted_grid_x.shape)\n",
    "        return [broadcasted_grid_x[:,: ,1:-1, 1:-1], broadcasted_grid_y[:,:, 1:-1, 1:-1], img[:,:, 1:-1, 1:-1]]\n",
    "\n",
    "    def covar(self, features, noise=1e-6):\n",
    "        \n",
    "        assert len(features.shape)== 3\n",
    "        _ ,D, N = features.shape\n",
    "        centered = features - torch.sum(features, 2,keepdim=True)/N\n",
    "        cov = torch.einsum('ijk,ilk->ijl',centered,centered)  / (N)\n",
    "        return cov + noise* torch.eye(D)\n",
    "\n",
    "    def forward(self, img):  \n",
    "        assert len(img.shape) == 4  \n",
    "        derivative_features = self.derivative_features(img)\n",
    "        other_features = self.other_features(img)\n",
    "        features = torch.cat( other_features +  derivative_features, axis=1)\n",
    "        vectorized = features.reshape(features.shape[0], features.shape[1], -1)\n",
    "        print(vectorized.shape)\n",
    "        return self.covar(vectorized)\n",
    "\n",
    "feature_extractor = CovarianceDescriptor()"
   ]
  },
  {
   "cell_type": "code",
   "execution_count": null,
   "metadata": {},
   "outputs": [],
   "source": [
    "datasets = [\"MNIST\", \"CIFAR10\", \"CIFAR100\" ]"
   ]
  },
  {
   "cell_type": "code",
   "execution_count": null,
   "metadata": {},
   "outputs": [],
   "source": [
    "train_data = torchvision.datasets.SVHN(\"data/\", split='train', download=True)\n",
    "test_data = torchvision.datasets.SVHN(\"data/\", split='test', download=True)\n",
    "\n",
    "train_X = train_data.data.unsqueeze(1).float()/255\n",
    "test_X= test_data.data.unsqueeze(1).float()/255\n",
    "train_labels = train_data.targets\n",
    "test_labels = test_data.targets\n",
    "\n",
    "print(train_X.shape)\n",
    "print(test_X.shape)\n",
    "\n",
    "print(train_labels.shape)\n",
    "print(test_labels.shape)"
   ]
  },
  {
   "cell_type": "code",
   "execution_count": null,
   "metadata": {},
   "outputs": [],
   "source": [
    "train_features = feature_extractor(train_X)\n",
    "test_features = feature_extractor(test_X)\n",
    "print(train_features.shape)\n",
    "print(train_features.max())\n",
    "print(train_features.min())\n",
    "print(test_features.shape)\n",
    "print(test_features.max())\n",
    "print(test_features.min())"
   ]
  },
  {
   "cell_type": "code",
   "execution_count": null,
   "metadata": {},
   "outputs": [],
   "source": [
    "import os \n",
    "os.environ[\"GEOMSTATS_BACKEND\"] = \"pytorch\"\n",
    "\n",
    "import geomstats.backend as gs\n",
    "from geomstats.geometry.spd_matrices import SPDMatrices, SPDMetricAffine, SPDMetricBuresWasserstein, SPDMetricLogEuclidean, SPDMetricEuclidean\n",
    "from geomstats.geometry.symmetric_matrices import SymmetricMatrices\n",
    "from geomstats.geometry.matrices import Matrices\n",
    "from geomstats.learning.mdm import RiemannianMinimumDistanceToMeanClassifier"
   ]
  },
  {
   "cell_type": "code",
   "execution_count": null,
   "metadata": {},
   "outputs": [],
   "source": [
    "n_classes = 10\n",
    "n = 9\n",
    "metric_list = [SPDMetricAffine(n), SPDMetricAffine(n, power_affine=1.0), SPDMetricAffine(n, power_affine=-0.5), SPDMetricLogEuclidean(n), SPDMetricEuclidean(n)]\n",
    "for metric in metric_list:\n",
    "    mdm = RiemannianMinimumDistanceToMeanClassifier(metric, n_classes)\n",
    "    mdm.fit(train_features, train_labels)\n",
    "    accuracy = mdm.score(test_features, test_labels)\n",
    "    print(metric.__class__.__name__, accuracy)"
   ]
  },
  {
   "cell_type": "code",
   "execution_count": null,
   "metadata": {},
   "outputs": [],
   "source": [
    "train_data = torchvision.datasets.SVHN(\"data/\", split='train', download=True)\n",
    "test_data = torchvision.datasets.SVHN(\"data/\", split='test', download=True)\n",
    "\n",
    "\n",
    "train_X = torch.tensor(train_data.data).float()/255\n",
    "test_X= torch.tensor(test_data.data).float()/255\n",
    "train_labels = torch.tensor(train_data.labels)\n",
    "test_labels = torch.tensor(test_data.labels)\n",
    "\n",
    "\n",
    "print(train_data.labels)\n",
    "\n",
    "print(train_X.shape)\n",
    "print(test_X.shape)\n",
    "\n",
    "print(train_labels.shape)\n",
    "print(test_labels.shape)"
   ]
  },
  {
   "cell_type": "code",
   "execution_count": null,
   "metadata": {},
   "outputs": [],
   "source": [
    "train_features = feature_extractor(train_X)\n",
    "test_features = feature_extractor(test_X)\n",
    "print(train_features.shape)\n",
    "print(train_features.max())\n",
    "print(train_features.min())\n",
    "print(test_features.shape)\n",
    "print(test_features.max())\n",
    "print(test_features.min())"
   ]
  },
  {
   "cell_type": "code",
   "execution_count": null,
   "metadata": {},
   "outputs": [],
   "source": [
    "print(train_labels)"
   ]
  },
  {
   "cell_type": "code",
   "execution_count": null,
   "metadata": {},
   "outputs": [],
   "source": [
    "from timeit import default_timer as timer"
   ]
  },
  {
   "cell_type": "code",
   "execution_count": null,
   "metadata": {},
   "outputs": [],
   "source": [
    "n_classes = 10\n",
    "n = 11\n",
    "metric_list = [SPDMetricAffine(n), SPDMetricAffine(n, power_affine=0.5), SPDMetricAffine(n, power_affine=-0.5), SPDMetricLogEuclidean(n), SPDMetricEuclidean(n)]\n",
    "for metric in metric_list:\n",
    "    start = timer()\n",
    "    mdm = RiemannianMinimumDistanceToMeanClassifier(metric, n_classes)\n",
    "    mdm.fit(train_features, train_labels)\n",
    "    accuracy = mdm.score(test_features, test_labels)\n",
    "    elapsed = timer() - start\n",
    "    print(metric.__class__.__name__, accuracy, elapsed)"
   ]
  },
  {
   "cell_type": "code",
   "execution_count": null,
   "metadata": {},
   "outputs": [],
   "source": []
  },
  {
   "cell_type": "code",
   "execution_count": null,
   "metadata": {},
   "outputs": [],
   "source": []
  },
  {
   "cell_type": "code",
   "execution_count": null,
   "metadata": {},
   "outputs": [],
   "source": []
  }
 ],
 "metadata": {
  "interpreter": {
   "hash": "a7dc8d783fd29a861d784ea8f50f67d6792d877e078731d7157a0feee3549224"
  },
  "kernelspec": {
   "display_name": "Python 3.9.12 ('bench')",
   "language": "python",
   "name": "python3"
  },
  "language_info": {
   "codemirror_mode": {
    "name": "ipython",
    "version": 3
   },
   "file_extension": ".py",
   "mimetype": "text/x-python",
   "name": "python",
   "nbconvert_exporter": "python",
   "pygments_lexer": "ipython3",
   "version": "3.9.12"
  },
  "orig_nbformat": 4
 },
 "nbformat": 4,
 "nbformat_minor": 2
}
