{
 "cells": [
  {
   "cell_type": "code",
   "execution_count": 43,
   "metadata": {},
   "outputs": [],
   "source": [
    "import geomstats.backend as gs\n",
    "import geomstats.datasets.utils as data_utils\n",
    "from sklearn.model_selection import KFold\n",
    "import numpy as np"
   ]
  },
  {
   "cell_type": "code",
   "execution_count": 36,
   "metadata": {},
   "outputs": [],
   "source": [
    "data, patient_ids, labels = data_utils.load_connectomes()"
   ]
  },
  {
   "cell_type": "code",
   "execution_count": 37,
   "metadata": {},
   "outputs": [
    {
     "name": "stdout",
     "output_type": "stream",
     "text": [
      "(86, 28, 28)\n"
     ]
    }
   ],
   "source": [
    "print(data.shape)"
   ]
  },
  {
   "cell_type": "code",
   "execution_count": 38,
   "metadata": {},
   "outputs": [
    {
     "data": {
      "text/plain": [
       "array([1, 0, 0, 0, 1, 0, 1, 1, 1, 0, 1, 0, 1, 1, 1, 1, 1, 0, 0, 1, 0, 0,\n",
       "       0, 0, 1, 0, 1, 1, 0, 0, 1, 0, 0, 0, 0, 0, 0, 0, 0, 1, 0, 0, 1, 0,\n",
       "       0, 1, 0, 1, 0, 1, 0, 1, 1, 1, 0, 1, 0, 1, 1, 0, 0, 0, 1, 0, 0, 1,\n",
       "       1, 1, 1, 1, 0, 1, 0, 1, 0, 0, 0, 1, 1, 1, 0, 0, 0, 1, 0, 1])"
      ]
     },
     "execution_count": 38,
     "metadata": {},
     "output_type": "execute_result"
    }
   ],
   "source": [
    "labels"
   ]
  },
  {
   "cell_type": "code",
   "execution_count": 40,
   "metadata": {},
   "outputs": [],
   "source": [
    "from geomstats.learning.mdm import RiemannianMinimumDistanceToMeanClassifier\n",
    "from sklearn.model_selection import RepeatedKFold"
   ]
  },
  {
   "cell_type": "code",
   "execution_count": 39,
   "metadata": {},
   "outputs": [],
   "source": [
    "n = 28\n",
    "n_classes = 2\n",
    "from geomstats.geometry.spd_matrices import SPDMatrices, SPDMetricAffine, SPDMetricBuresWasserstein, SPDMetricLogEuclidean, SPDMetricEuclidean\n",
    "metric_list = [SPDMetricAffine(n), SPDMetricBuresWasserstein(n), SPDMetricLogEuclidean(n), SPDMetricEuclidean(n)]\n",
    "\n",
    "rkf = RepeatedKFold(n_splits=2, n_repeats=100, random_state=2652124)"
   ]
  },
  {
   "cell_type": "code",
   "execution_count": 53,
   "metadata": {},
   "outputs": [],
   "source": [
    "accuracy_list = []\n",
    "rkf = RepeatedKFold(n_splits=2, n_repeats=100, random_state=2652124)\n",
    "for train_index, test_index in rkf.split(data):\n",
    "    X_train, X_test = data[train_index], data[test_index]\n",
    "    y_train, y_test = labels[train_index], labels[test_index]\n",
    "    metric_wise = []\n",
    "    for metric in metric_list:\n",
    "        mdm = RiemannianMinimumDistanceToMeanClassifier(metric, n_classes)\n",
    "        mdm.fit(X_train, y_train)\n",
    "        y=mdm.predict(X_test)\n",
    "        acc = (y == y_test).mean()\n",
    "        metric_wise.append(acc)\n",
    "    accuracy_list.append(np.array(metric_wise))\n",
    "accuracy = np.array(accuracy_list).mean(axis=0)"
   ]
  },
  {
   "cell_type": "code",
   "execution_count": 54,
   "metadata": {},
   "outputs": [
    {
     "name": "stdout",
     "output_type": "stream",
     "text": [
      "[0.68325581 0.67093023 0.68337209 0.65232558]\n"
     ]
    }
   ],
   "source": [
    "print(accuracy)"
   ]
  },
  {
   "cell_type": "code",
   "execution_count": null,
   "metadata": {},
   "outputs": [],
   "source": [
    "print(\"SPDMetricAffine\", accuracy[0])\n",
    "print"
   ]
  },
  {
   "cell_type": "code",
   "execution_count": 33,
   "metadata": {},
   "outputs": [
    {
     "name": "stdout",
     "output_type": "stream",
     "text": [
      "(10, 28, 28)\n",
      "(10,)\n",
      "[1 0 0 0 1 0 1 1 1 0]\n"
     ]
    }
   ],
   "source": [
    "train_size = 10\n",
    "train_data = data[:train_size]\n",
    "train_labels = labels[:train_size]\n",
    "test_data = data[train_size:]\n",
    "test_labels = labels[train_size:]\n",
    "n_classes = 2\n",
    "\n",
    "print(train_data.shape)\n",
    "print(train_labels.shape)\n",
    "print(train_labels)"
   ]
  },
  {
   "cell_type": "code",
   "execution_count": null,
   "metadata": {},
   "outputs": [],
   "source": [
    "for train_index, test_index in rkf.split(data):\n",
    "    \n",
    "    "
   ]
  },
  {
   "cell_type": "code",
   "execution_count": 34,
   "metadata": {},
   "outputs": [
    {
     "name": "stdout",
     "output_type": "stream",
     "text": [
      "(76,)\n",
      "(76,)\n",
      "53\n",
      "(76,)\n",
      "(76,)\n",
      "47\n",
      "(76,)\n",
      "(76,)\n",
      "51\n",
      "(76,)\n",
      "(76,)\n",
      "45\n"
     ]
    }
   ],
   "source": [
    "for metric in metric_list:\n",
    "    mdm = RiemannianMinimumDistanceToMeanClassifier(metric, n_classes)\n",
    "    mdm.fit(train_data, train_labels)\n",
    "    y=mdm.predict(test_data)\n",
    "    print(y.shape)\n",
    "    print(test_labels.shape)\n",
    "    correct = (y == test_labels).sum()\n",
    "    print(correct)\n"
   ]
  },
  {
   "cell_type": "code",
   "execution_count": null,
   "metadata": {},
   "outputs": [],
   "source": []
  }
 ],
 "metadata": {
  "interpreter": {
   "hash": "1ec97232e8cf621a83df66675202735693aaf97ce3ae5a5ad95380fe5aef9418"
  },
  "kernelspec": {
   "display_name": "Python 3.9.7 ('geomstats39')",
   "language": "python",
   "name": "python3"
  },
  "language_info": {
   "codemirror_mode": {
    "name": "ipython",
    "version": 3
   },
   "file_extension": ".py",
   "mimetype": "text/x-python",
   "name": "python",
   "nbconvert_exporter": "python",
   "pygments_lexer": "ipython3",
   "version": "3.9.7"
  },
  "orig_nbformat": 4
 },
 "nbformat": 4,
 "nbformat_minor": 2
}
